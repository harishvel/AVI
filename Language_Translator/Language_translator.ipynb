import speech_recognition as sr
from googletrans import Translator, LANGUAGES
import pyttsx3

# Initialize recognizer, translator, and TTS engine
recognizer = sr.Recognizer()
translator = Translator()
engine = pyttsx3.init()

def get_language_code(lang_name):
    for code, name in LANGUAGES.items():
        if lang_name.lower() in (name.lower(), code.lower()):
            return code
    return None

def listen():
    with sr.Microphone() as source:
        print("🎤 Speak now...")
        recognizer.adjust_for_ambient_noise(source)
        audio = recognizer.listen(source)
    try:
        print("🧠 Recognizing...")
        text = recognizer.recognize_google(audio)
        print(f"🗣️ You said: {text}")
        return text
    except:
        print("❌ Could not understand.")
        return None

def translate_text(text, src_lang, target_lang):
    result = translator.translate(text, src=src_lang, dest=target_lang)
    print(f"🌍 Translated ({src_lang} ➡ {target_lang}): {result.text}")
    return result.text

def speak(text):
    engine.say(text)
    engine.runAndWait()

def main():
    print("🎬 Voice Translator & Speaker (No file saving)")
    print("🌐 Example languages: en = English, ta = Tamil, hi = Hindi, fr = French")

    src_lang_input = input("🗣️ Enter source language (code or name): ").strip()
    target_lang_input = input("🌍 Enter target language (code or name): ").strip()

    src_lang = get_language_code(src_lang_input)
    target_lang = get_language_code(target_lang_input)

    if not src_lang or not target_lang:
        print("❌ Invalid language input. Please use ISO codes or correct names.")
        return

    while True:
        text = listen()
        if text:
            translated = translate_text(text, src_lang, target_lang)
            speak(translated)

        again = input("\n🔁 Translate another? (y/n): ").strip().lower()
        if again != 'y':
            break

if __name__ == "__main__":
    main()
