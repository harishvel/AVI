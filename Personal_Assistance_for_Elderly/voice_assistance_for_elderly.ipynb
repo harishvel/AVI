import speech_recognition as sr
import pyttsx3
from datetime import datetime
import time
import threading

recognizer = sr.Recognizer()
engine = pyttsx3.init()
engine.setProperty('rate', 130)
speak_lock = threading.Lock()

def speak(text):
    with speak_lock:
        print("Assistant:", text)
        engine.say(text)
        engine.runAndWait()

def listen():
    with sr.Microphone() as source:
        print("Listening...")
        recognizer.adjust_for_ambient_noise(source)
        audio = recognizer.listen(source)
    try:
        text = recognizer.recognize_google(audio)
        print("You said:", text)
        return text.lower()
    except:
        speak("Sorry, I did not understand.")
        return ""

def emergency_flow():
    speak("Emergency detected. Would you like to provide contact name or phone number?")
    choice = listen()

    if 'name' in choice:
        speak("Please say the contact name.")
        contact_name = listen()
        if contact_name:
            speak(f"Okay, calling {contact_name}. Stay safe!")
        else:
            speak("Sorry, I did not get the contact name.")
    elif 'number' in choice:
        speak("Please say the phone number.")
        number = listen()
        if number:
            speak(f"Okay, calling the number {number}. Stay safe!")
        else:
            speak("Sorry, I did not get the phone number.")
    else:
        speak("Sorry, I did not understand. Please say 'name' or 'number'.")

def reminder_flow():
    speak("What should I remind you about?")
    reminder = listen()
    if not reminder:
        speak("Sorry, I did not get the reminder.")
        return

    speak("In how many seconds should I remind you?")
    try:
        seconds_str = listen()
        seconds = int(''.join(filter(str.isdigit, seconds_str)))
        speak(f"Okay, I will remind you in {seconds} seconds.")
        time.sleep(seconds)
        speak(f"Reminder: {reminder}")
    except:
        speak("Sorry, I did not understand the time.")

def tell_time():
    now = datetime.now().strftime("%I:%M %p")
    speak(f"The time is {now}")

def tell_date():
    today = datetime.now().strftime("%B %d, %Y")
    speak(f"Today is {today}")

def main():
    speak("Hello! How can I help you?")
    while True:
        command = listen()
        if not command:
            continue

        if 'emergency' in command or 'sos' in command:
            emergency_flow()
        elif 'remind me' in command or 'reminder' in command:
            reminder_flow()
        elif 'time' in command:
            tell_time()
        elif 'date' in command:
            tell_date()
        elif 'stop' in command or 'exit' in command:
            speak("Goodbye! Take care.")
            break
        else:
            speak("Say 'emergency' if you need help, 'remind me' to set a reminder, 'time' to know the time, 'date' to know the date, or 'stop' to exit.")

if __name__ == "__main__":
    main()