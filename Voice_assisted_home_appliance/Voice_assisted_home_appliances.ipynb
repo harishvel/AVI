import speech_recognition as sr
import pyttsx3

# Initialize text-to-speech engine
engine = pyttsx3.init()

# Appliance state
appliance_states = {
    "light": False,
    "fan": False,
    "tv": False,
    "ac": False,
    "heater": False
}

# Synonyms for appliances
appliance_aliases = {
    "light": ["light", "lamp", "bulb"],
    "fan": ["fan", "ceiling fan"],
    "tv": ["tv", "television"],
    "ac": ["ac", "air conditioner", "cooler"],
    "heater": ["heater", "geyser", "water heater"]
}

# Catchy command mappings
catchy_commands = {
    "turn on the light": ["lights on", "let's light it up", "i need light", "brighten the room"],
    "turn off the light": ["kill the light", "lights off", "too bright"],
    "turn on the fan": ["start the fan", "i'm hot", "make it breezy", "turn on breeze"],
    "turn off the fan": ["stop the fan", "it's cold", "enough breeze"],
    "turn on the tv": ["tv time", "netflix and chill", "turn on television", "entertain me"],
    "turn off the tv": ["turn off television", "i’m done watching", "shut down the tv"],
    "turn on the ac": ["cool the room", "turn on air conditioner", "i'm sweating"],
    "turn off the ac": ["turn off air conditioner", "i'm freezing", "enough cooling"],
    "turn on the heater": ["heat the water", "start the geyser", "turn on water heater"],
    "turn off the heater": ["stop the geyser", "turn off water heater", "enough heating"],
    "turn off all": ["power down everything", "i'm leaving", "house, sleep mode", "good night"],
    "turn on all": ["wake up the house", "power up everything"]
}

def speak(text):
    print(f"> {text}")
    engine.say(text)
    engine.runAndWait()

def listen_command():
    recognizer = sr.Recognizer()
    with sr.Microphone() as source:
        print("🎤 Listening...")
        recognizer.adjust_for_ambient_noise(source)
        audio = recognizer.listen(source)
    try:
        command = recognizer.recognize_google(audio).lower()
        print(f"🗣 You said: {command}")
        return match_catchy_command(command)
    except sr.UnknownValueError:
        speak("Sorry, I didn't catch that.")
        return ""
    except sr.RequestError:
        speak("Network error. Please check your internet.")
        return ""

def match_catchy_command(command):
    """Convert catchy or synonym phrases to standard commands."""
    for standard, phrases in catchy_commands.items():
        if standard in command:
            return standard
        for phrase in phrases:
            if phrase in command:
                return standard
    return command

def get_appliance_from_command(command):
    """Map command to appliance name."""
    for appliance, aliases in appliance_aliases.items():
        for alias in aliases:
            if alias in command:
                return appliance
    return None

def control_appliance(command):
    """Control the appliance based on processed command."""
    if "turn off all" in command:
        for appliance in appliance_states:
            if appliance_states[appliance]:
                appliance_states[appliance] = False
        speak("All appliances have been turned OFF.")
        return

    if "turn on all" in command:
        for appliance in appliance_states:
            if not appliance_states[appliance]:
                appliance_states[appliance] = True
        speak("All appliances have been turned ON.")
        return

    appliance = get_appliance_from_command(command)
    if not appliance:
        speak("I couldn’t find the appliance in your command.")
        return

    state = appliance_states[appliance]

    if "turn on" in command or "switch on" in command:
        if state:
            speak(f"{appliance.capitalize()} is already ON.")
        else:
            appliance_states[appliance] = True
            speak(f"Turning ON {appliance}.")
    elif "turn off" in command or "switch off" in command:
        if not state:
            speak(f"{appliance.capitalize()} is already OFF.")
        else:
            appliance_states[appliance] = False
            speak(f"Turning OFF {appliance}.")
    else:
        speak("Please say turn on or turn off followed by the appliance name.")

def main():
    speak("Smart Home Voice Control ready. Try saying something like 'Lights on' or 'Netflix and chill'.")
    while True:
        command = listen_command()
        if command:
            if "exit" in command or "stop" in command or "quit" in command:
                speak("Shutting down the system. Goodbye!")
                break
            control_appliance(command)

if __name__ == "__main__":
    main()
